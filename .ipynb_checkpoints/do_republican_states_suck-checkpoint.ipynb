{
 "cells": [
  {
   "cell_type": "markdown",
   "id": "a1862e6c-d091-4d32-8c6b-8d50370d3e8f",
   "metadata": {},
   "source": [
    "# Do Republican States suck?\n",
    "Fact checking this [comment](https://www.reddit.com/r/Damnthatsinteresting/comments/ux8961/comment/i9wq847/?utm_source=share&utm_medium=web2x&context=3) from Reddit that claims republican states have:\n",
    "- higher mortality rate (I guess he means lower life expectancy, or maybe COVID mortality rate) - **TRUE**\n",
    "- higher violent crime rate - **TRUE**\n",
    "- more poverty - **FALSE**\n",
    "- lower education - **TRUE**\n",
    "- worse health care - **TRUE**\n",
    "- more teen pregnancy - **FALSE**\n",
    "- brain drain i.e. Human capital flight, refers to the emigration or immigration of individuals who have received advanced training at home ([source](https://en.wikipedia.org/wiki/Human_capital_flight)) - **FALSE**"
   ]
  },
  {
   "cell_type": "code",
   "execution_count": 1,
   "id": "aaf9a412-552d-4759-851b-d14553952bcf",
   "metadata": {},
   "outputs": [],
   "source": [
    "import pandas as pd\n",
    "import re\n",
    "from matplotlib import pyplot as plt\n",
    "from scipy import stats"
   ]
  },
  {
   "cell_type": "markdown",
   "id": "c65d2cd3-46a5-4dfd-a7db-7315d6ac3b53",
   "metadata": {},
   "source": [
    "## Data\n",
    "I use mostly wikipedia because it is easy to find and usually reliable, feel free to recommend other sources."
   ]
  },
  {
   "cell_type": "code",
   "execution_count": 2,
   "id": "fc7db38d-74b6-4679-a224-e82e7018627a",
   "metadata": {},
   "outputs": [],
   "source": [
    "def parse_pct(value):\n",
    "    return float(re.search('(\\d+(:?\\.\\d+)?)%', value).group(1))"
   ]
  },
  {
   "cell_type": "markdown",
   "id": "b80f7d95-eaf7-4a65-b572-43cfd2955a28",
   "metadata": {},
   "source": [
    "### Potilical Party Strength\n",
    "Source: https://en.wikipedia.org/wiki/Political_party_strength_in_U.S._states"
   ]
  },
  {
   "cell_type": "code",
   "execution_count": 3,
   "id": "af491578-4379-4e8d-91e4-684bf9e824d9",
   "metadata": {},
   "outputs": [
    {
     "data": {
      "text/html": [
       "<div>\n",
       "<style scoped>\n",
       "    .dataframe tbody tr th:only-of-type {\n",
       "        vertical-align: middle;\n",
       "    }\n",
       "\n",
       "    .dataframe tbody tr th {\n",
       "        vertical-align: top;\n",
       "    }\n",
       "\n",
       "    .dataframe thead th {\n",
       "        text-align: right;\n",
       "    }\n",
       "</style>\n",
       "<table border=\"1\" class=\"dataframe\">\n",
       "  <thead>\n",
       "    <tr style=\"text-align: right;\">\n",
       "      <th></th>\n",
       "      <th>State</th>\n",
       "      <th>2020 presidentialelection</th>\n",
       "      <th>Governor</th>\n",
       "      <th>State Senate</th>\n",
       "      <th>State House</th>\n",
       "      <th>SeniorU.S. Senator</th>\n",
       "      <th>JuniorU.S. Senator</th>\n",
       "      <th>U.S. House of Representatives</th>\n",
       "      <th>Party registration or identification (% as of 2020</th>\n",
       "    </tr>\n",
       "  </thead>\n",
       "  <tbody>\n",
       "    <tr>\n",
       "      <th>0</th>\n",
       "      <td>Alabama</td>\n",
       "      <td>Republican</td>\n",
       "      <td>Republican</td>\n",
       "      <td>Republican 27–8</td>\n",
       "      <td>Republican 77–28</td>\n",
       "      <td>Republican</td>\n",
       "      <td>Republican</td>\n",
       "      <td>Republican 6–1</td>\n",
       "      <td>Republican52–35[a]</td>\n",
       "    </tr>\n",
       "    <tr>\n",
       "      <th>1</th>\n",
       "      <td>Alaska</td>\n",
       "      <td>Republican</td>\n",
       "      <td>Republican</td>\n",
       "      <td>Republican 13–7</td>\n",
       "      <td>Coalition 23–17[b]</td>\n",
       "      <td>Republican</td>\n",
       "      <td>Republican</td>\n",
       "      <td>Vacant[9]</td>\n",
       "      <td>Republican24–13[c][10]</td>\n",
       "    </tr>\n",
       "    <tr>\n",
       "      <th>2</th>\n",
       "      <td>Arizona</td>\n",
       "      <td>Democratic</td>\n",
       "      <td>Republican</td>\n",
       "      <td>Republican 16–14</td>\n",
       "      <td>Republican 31–29</td>\n",
       "      <td>Democratic</td>\n",
       "      <td>Democratic</td>\n",
       "      <td>Democratic 5–4</td>\n",
       "      <td>Republican35–33[c][11]</td>\n",
       "    </tr>\n",
       "    <tr>\n",
       "      <th>3</th>\n",
       "      <td>Arkansas</td>\n",
       "      <td>Republican</td>\n",
       "      <td>Republican</td>\n",
       "      <td>Republican 28–7</td>\n",
       "      <td>Republican 77–23</td>\n",
       "      <td>Republican</td>\n",
       "      <td>Republican</td>\n",
       "      <td>Republican 4</td>\n",
       "      <td>Republican48–35[a]</td>\n",
       "    </tr>\n",
       "    <tr>\n",
       "      <th>4</th>\n",
       "      <td>California</td>\n",
       "      <td>Democratic</td>\n",
       "      <td>Democratic</td>\n",
       "      <td>Democratic 31–9</td>\n",
       "      <td>Democratic 59–19–1</td>\n",
       "      <td>Democratic</td>\n",
       "      <td>Democratic</td>\n",
       "      <td>Democratic 42–11</td>\n",
       "      <td>Democratic45–24[c][12]</td>\n",
       "    </tr>\n",
       "  </tbody>\n",
       "</table>\n",
       "</div>"
      ],
      "text/plain": [
       "        State 2020 presidentialelection    Governor      State Senate  \\\n",
       "0     Alabama                Republican  Republican   Republican 27–8   \n",
       "1      Alaska                Republican  Republican   Republican 13–7   \n",
       "2     Arizona                Democratic  Republican  Republican 16–14   \n",
       "3    Arkansas                Republican  Republican   Republican 28–7   \n",
       "4  California                Democratic  Democratic   Democratic 31–9   \n",
       "\n",
       "          State House SeniorU.S. Senator JuniorU.S. Senator  \\\n",
       "0    Republican 77–28         Republican         Republican   \n",
       "1  Coalition 23–17[b]         Republican         Republican   \n",
       "2    Republican 31–29         Democratic         Democratic   \n",
       "3    Republican 77–23         Republican         Republican   \n",
       "4  Democratic 59–19–1         Democratic         Democratic   \n",
       "\n",
       "  U.S. House of Representatives  \\\n",
       "0                Republican 6–1   \n",
       "1                     Vacant[9]   \n",
       "2                Democratic 5–4   \n",
       "3                  Republican 4   \n",
       "4              Democratic 42–11   \n",
       "\n",
       "  Party registration or identification (% as of 2020  \n",
       "0                                 Republican52–35[a]  \n",
       "1                             Republican24–13[c][10]  \n",
       "2                             Republican35–33[c][11]  \n",
       "3                                 Republican48–35[a]  \n",
       "4                             Democratic45–24[c][12]  "
      ]
     },
     "execution_count": 3,
     "metadata": {},
     "output_type": "execute_result"
    }
   ],
   "source": [
    "with open('data/US_state_political_party_strength_january_2022.html', 'r', encoding='utf8') as f:\n",
    "    political_strength = pd.read_html(f.read())[0]\n",
    "political_strength.head()"
   ]
  },
  {
   "cell_type": "code",
   "execution_count": 4,
   "id": "60e106c6-7197-4202-a275-2f245ba08e41",
   "metadata": {},
   "outputs": [],
   "source": [
    "republican_strength_by_state = {}\n",
    "for _, row in political_strength.iterrows():\n",
    "    match = re.search('(Republican|Democratic|Even)(\\d+)(?:–|-)(\\d+)', row['Party registration or identification (% as of 2020'])\n",
    "    democratic = int(match.group(2)) if match.group(1) != 'Republican' else int(match.group(3))\n",
    "    republican = int(match.group(2)) if match.group(1) != 'Democratic' else int(match.group(3))\n",
    "    republican_strength_by_state[row['State']] = republican / democratic"
   ]
  },
  {
   "cell_type": "markdown",
   "id": "3506b2ec-e87b-4b27-923e-f6f0041f79f6",
   "metadata": {},
   "source": [
    "[1] A Republican strength of 1 mean Republicans have the same level of power as Democrats, a strength of 2 means they are twice as powerful, and a strength of 0.5 means they are half as powerful."
   ]
  },
  {
   "cell_type": "markdown",
   "id": "ad5932b6-1ef1-4bb1-ac70-d97acc3b0727",
   "metadata": {},
   "source": [
    "### Life Expectancy\n",
    "Source: https://en.wikipedia.org/wiki/List_of_U.S._states_and_territories_by_life_expectancy"
   ]
  },
  {
   "cell_type": "code",
   "execution_count": 5,
   "id": "77cd2f16-1882-44ac-bf9b-49b6687dbc06",
   "metadata": {},
   "outputs": [
    {
     "data": {
      "text/html": [
       "<div>\n",
       "<style scoped>\n",
       "    .dataframe tbody tr th:only-of-type {\n",
       "        vertical-align: middle;\n",
       "    }\n",
       "\n",
       "    .dataframe tbody tr th {\n",
       "        vertical-align: top;\n",
       "    }\n",
       "\n",
       "    .dataframe thead th {\n",
       "        text-align: right;\n",
       "    }\n",
       "</style>\n",
       "<table border=\"1\" class=\"dataframe\">\n",
       "  <thead>\n",
       "    <tr style=\"text-align: right;\">\n",
       "      <th></th>\n",
       "      <th>Rank</th>\n",
       "      <th>State/Territory</th>\n",
       "      <th>Life Expectancy 2019[3]</th>\n",
       "      <th>Life Expectancy 2010[7]</th>\n",
       "      <th>Change 2010-2018</th>\n",
       "      <th>Male[8]</th>\n",
       "      <th>Female[8]</th>\n",
       "      <th>White [3]</th>\n",
       "      <th>Hispanic [3]</th>\n",
       "      <th>Black [3]</th>\n",
       "      <th>Asian [3]</th>\n",
       "      <th>American Indian [3]</th>\n",
       "      <th>Comparable Country[9]</th>\n",
       "    </tr>\n",
       "  </thead>\n",
       "  <tbody>\n",
       "    <tr>\n",
       "      <th>0</th>\n",
       "      <td>-</td>\n",
       "      <td>American Samoa[11]</td>\n",
       "      <td>74.8[11]</td>\n",
       "      <td>71.6[12]</td>\n",
       "      <td>3.2</td>\n",
       "      <td>73.0[11]</td>\n",
       "      <td>77.0[11]</td>\n",
       "      <td>-</td>\n",
       "      <td>-</td>\n",
       "      <td>-</td>\n",
       "      <td>-</td>\n",
       "      <td>-</td>\n",
       "      <td>Nicaragua</td>\n",
       "    </tr>\n",
       "    <tr>\n",
       "      <th>1</th>\n",
       "      <td>-</td>\n",
       "      <td>Guam[4]</td>\n",
       "      <td>79.9</td>\n",
       "      <td>77.9</td>\n",
       "      <td>2.0</td>\n",
       "      <td>76.6[4]</td>\n",
       "      <td>83.4[4]</td>\n",
       "      <td>-</td>\n",
       "      <td>-</td>\n",
       "      <td>-</td>\n",
       "      <td>-</td>\n",
       "      <td>-</td>\n",
       "      <td>Chile</td>\n",
       "    </tr>\n",
       "    <tr>\n",
       "      <th>2</th>\n",
       "      <td>-</td>\n",
       "      <td>Northern Mariana Islands[11]</td>\n",
       "      <td>76.1[11]</td>\n",
       "      <td>76.4[12]</td>\n",
       "      <td>0.3</td>\n",
       "      <td>73.6[11]</td>\n",
       "      <td>79.3[11]</td>\n",
       "      <td>-</td>\n",
       "      <td>-</td>\n",
       "      <td>-</td>\n",
       "      <td>-</td>\n",
       "      <td>-</td>\n",
       "      <td>Romania</td>\n",
       "    </tr>\n",
       "    <tr>\n",
       "      <th>3</th>\n",
       "      <td>-</td>\n",
       "      <td>Puerto Rico[4]</td>\n",
       "      <td>79.8</td>\n",
       "      <td>78.4</td>\n",
       "      <td>1.4</td>\n",
       "      <td>76.4[4]</td>\n",
       "      <td>83.4[4]</td>\n",
       "      <td>-</td>\n",
       "      <td>-</td>\n",
       "      <td>-</td>\n",
       "      <td>-</td>\n",
       "      <td>-</td>\n",
       "      <td>Chile</td>\n",
       "    </tr>\n",
       "    <tr>\n",
       "      <th>4</th>\n",
       "      <td>-</td>\n",
       "      <td>U.S. Virgin Islands[4]</td>\n",
       "      <td>79.6</td>\n",
       "      <td>78.0</td>\n",
       "      <td>1.6</td>\n",
       "      <td>76.3[4]</td>\n",
       "      <td>83.0[4]</td>\n",
       "      <td>-</td>\n",
       "      <td>-</td>\n",
       "      <td>-</td>\n",
       "      <td>-</td>\n",
       "      <td>-</td>\n",
       "      <td>Czech Republic</td>\n",
       "    </tr>\n",
       "  </tbody>\n",
       "</table>\n",
       "</div>"
      ],
      "text/plain": [
       "  Rank               State/Territory Life Expectancy 2019[3]  \\\n",
       "0    -            American Samoa[11]                74.8[11]   \n",
       "1    -                       Guam[4]                    79.9   \n",
       "2    -  Northern Mariana Islands[11]                76.1[11]   \n",
       "3    -                Puerto Rico[4]                    79.8   \n",
       "4    -        U.S. Virgin Islands[4]                    79.6   \n",
       "\n",
       "  Life Expectancy 2010[7]  Change 2010-2018   Male[8] Female[8] White [3]  \\\n",
       "0                71.6[12]               3.2  73.0[11]  77.0[11]         -   \n",
       "1                    77.9               2.0   76.6[4]   83.4[4]         -   \n",
       "2                76.4[12]               0.3  73.6[11]  79.3[11]         -   \n",
       "3                    78.4               1.4   76.4[4]   83.4[4]         -   \n",
       "4                    78.0               1.6   76.3[4]   83.0[4]         -   \n",
       "\n",
       "  Hispanic [3] Black [3] Asian [3] American Indian [3] Comparable Country[9]  \n",
       "0            -         -         -                   -             Nicaragua  \n",
       "1            -         -         -                   -                 Chile  \n",
       "2            -         -         -                   -               Romania  \n",
       "3            -         -         -                   -                 Chile  \n",
       "4            -         -         -                   -        Czech Republic  "
      ]
     },
     "execution_count": 5,
     "metadata": {},
     "output_type": "execute_result"
    }
   ],
   "source": [
    "with open('data/US_state_life_expectancy_2019.html', 'r', encoding='utf8') as f:\n",
    "    life_expectancies = pd.read_html(f.read())[0]\n",
    "life_expectancies.head()"
   ]
  },
  {
   "cell_type": "code",
   "execution_count": 6,
   "id": "6c70bf24-4ab0-4b9b-a325-67e951889a65",
   "metadata": {},
   "outputs": [],
   "source": [
    "life_expectancy_by_state = {}\n",
    "for _, row in life_expectancies.iterrows():\n",
    "    state = re.search('([^\\[]+)(?:\\[\\d+\\])*', row['State/Territory']).group(1)\n",
    "    life_expectancy = float(re.search('(\\d+(?:.\\d+)?)(?:\\[\\d+\\])*', row['Life Expectancy 2019[3]']).group(1))\n",
    "    life_expectancy_by_state[state] = life_expectancy"
   ]
  },
  {
   "cell_type": "markdown",
   "id": "e904f3b2-f4bc-42d7-8ec6-06be627829a8",
   "metadata": {},
   "source": [
    "### Murder Rates\n",
    "Source: https://en.wikipedia.org/wiki/List_of_U.S._states_and_territories_by_intentional_homicide_rate  "
   ]
  },
  {
   "cell_type": "code",
   "execution_count": 7,
   "id": "9de32704-5b46-4e12-a1dd-1bd4f941ccca",
   "metadata": {},
   "outputs": [
    {
     "data": {
      "text/html": [
       "<div>\n",
       "<style scoped>\n",
       "    .dataframe tbody tr th:only-of-type {\n",
       "        vertical-align: middle;\n",
       "    }\n",
       "\n",
       "    .dataframe tbody tr th {\n",
       "        vertical-align: top;\n",
       "    }\n",
       "\n",
       "    .dataframe thead tr th {\n",
       "        text-align: left;\n",
       "    }\n",
       "</style>\n",
       "<table border=\"1\" class=\"dataframe\">\n",
       "  <thead>\n",
       "    <tr>\n",
       "      <th></th>\n",
       "      <th>State or Territory</th>\n",
       "      <th>MurderVictims</th>\n",
       "      <th colspan=\"10\" halign=\"left\">Murder Rates(per 100,000 people)</th>\n",
       "    </tr>\n",
       "    <tr>\n",
       "      <th></th>\n",
       "      <th>State or Territory</th>\n",
       "      <th>2020</th>\n",
       "      <th>2020</th>\n",
       "      <th>2019</th>\n",
       "      <th>2018</th>\n",
       "      <th>2017</th>\n",
       "      <th>2016</th>\n",
       "      <th>2015</th>\n",
       "      <th>2014</th>\n",
       "      <th>2013</th>\n",
       "      <th>2012</th>\n",
       "      <th>2011</th>\n",
       "    </tr>\n",
       "  </thead>\n",
       "  <tbody>\n",
       "    <tr>\n",
       "      <th>1</th>\n",
       "      <td>District of Columbia</td>\n",
       "      <td>201.0</td>\n",
       "      <td>28.2</td>\n",
       "      <td>23.4</td>\n",
       "      <td>22.8</td>\n",
       "      <td>16.7</td>\n",
       "      <td>19.9</td>\n",
       "      <td>24.1</td>\n",
       "      <td>15.9</td>\n",
       "      <td>15.9</td>\n",
       "      <td>13.9</td>\n",
       "      <td>17.5</td>\n",
       "    </tr>\n",
       "    <tr>\n",
       "      <th>2</th>\n",
       "      <td>Puerto Rico</td>\n",
       "      <td>529.0</td>\n",
       "      <td>16.7</td>\n",
       "      <td>19.0</td>\n",
       "      <td>20.0</td>\n",
       "      <td>20.3</td>\n",
       "      <td>19.9</td>\n",
       "      <td>16.8</td>\n",
       "      <td>19.3</td>\n",
       "      <td>24.4</td>\n",
       "      <td>26.8</td>\n",
       "      <td>30.6</td>\n",
       "    </tr>\n",
       "    <tr>\n",
       "      <th>3</th>\n",
       "      <td>Louisiana</td>\n",
       "      <td>734.0</td>\n",
       "      <td>15.8</td>\n",
       "      <td>11.7</td>\n",
       "      <td>11.4</td>\n",
       "      <td>12.3</td>\n",
       "      <td>11.8</td>\n",
       "      <td>10.3</td>\n",
       "      <td>10.2</td>\n",
       "      <td>10.8</td>\n",
       "      <td>10.6</td>\n",
       "      <td>11.2</td>\n",
       "    </tr>\n",
       "    <tr>\n",
       "      <th>4</th>\n",
       "      <td>Missouri</td>\n",
       "      <td>723.0</td>\n",
       "      <td>11.8</td>\n",
       "      <td>9.4</td>\n",
       "      <td>9.8</td>\n",
       "      <td>9.8</td>\n",
       "      <td>8.8</td>\n",
       "      <td>8.3</td>\n",
       "      <td>6.7</td>\n",
       "      <td>6.1</td>\n",
       "      <td>6.5</td>\n",
       "      <td>6.1</td>\n",
       "    </tr>\n",
       "    <tr>\n",
       "      <th>5</th>\n",
       "      <td>Mississippi</td>\n",
       "      <td>315.0</td>\n",
       "      <td>10.6</td>\n",
       "      <td>10.0</td>\n",
       "      <td>7.2</td>\n",
       "      <td>6.4</td>\n",
       "      <td>7.9</td>\n",
       "      <td>8.7</td>\n",
       "      <td>8.7</td>\n",
       "      <td>6.5</td>\n",
       "      <td>7.1</td>\n",
       "      <td>8.0</td>\n",
       "    </tr>\n",
       "  </tbody>\n",
       "</table>\n",
       "</div>"
      ],
      "text/plain": [
       "     State or Territory MurderVictims Murder Rates(per 100,000 people)        \\\n",
       "     State or Territory          2020                             2020  2019   \n",
       "1  District of Columbia         201.0                             28.2  23.4   \n",
       "2           Puerto Rico         529.0                             16.7  19.0   \n",
       "3             Louisiana         734.0                             15.8  11.7   \n",
       "4              Missouri         723.0                             11.8   9.4   \n",
       "5           Mississippi         315.0                             10.6  10.0   \n",
       "\n",
       "                                                   \n",
       "   2018  2017  2016  2015  2014  2013  2012  2011  \n",
       "1  22.8  16.7  19.9  24.1  15.9  15.9  13.9  17.5  \n",
       "2  20.0  20.3  19.9  16.8  19.3  24.4  26.8  30.6  \n",
       "3  11.4  12.3  11.8  10.3  10.2  10.8  10.6  11.2  \n",
       "4   9.8   9.8   8.8   8.3   6.7   6.1   6.5   6.1  \n",
       "5   7.2   6.4   7.9   8.7   8.7   6.5   7.1   8.0  "
      ]
     },
     "execution_count": 7,
     "metadata": {},
     "output_type": "execute_result"
    }
   ],
   "source": [
    "with open('data/US_state_murder_rates.html', 'r', encoding='utf8') as f:\n",
    "    murder_rates = pd.read_html(f.read())[0].iloc[1:]\n",
    "murder_rates.head()"
   ]
  },
  {
   "cell_type": "code",
   "execution_count": 8,
   "id": "54bc7442-638e-4431-a94b-c68283e7f451",
   "metadata": {},
   "outputs": [],
   "source": [
    "murder_rates_by_state = {}\n",
    "for _, row in murder_rates.iterrows():\n",
    "    murder_rates_by_state[row[('State or Territory', 'State or Territory')]] = float(row[('Murder Rates(per 100,000 people)', '2020')])"
   ]
  },
  {
   "cell_type": "markdown",
   "id": "7fb6e5a4-1014-469d-959b-87542b335583",
   "metadata": {},
   "source": [
    "### Violent Crimes Rates\n",
    "Source: https://en.wikipedia.org/wiki/List_of_U.S._states_and_territories_by_violent_crime_rate  \n",
    "\n",
    "In the United States, violent crime consists of five types of criminal offenses: murder and non-negligent manslaughter, rape, robbery, aggravated assault, and gang violence."
   ]
  },
  {
   "cell_type": "code",
   "execution_count": 9,
   "id": "23b2e4a7-0ad2-4255-a232-f9617b3b3095",
   "metadata": {},
   "outputs": [
    {
     "data": {
      "text/html": [
       "<div>\n",
       "<style scoped>\n",
       "    .dataframe tbody tr th:only-of-type {\n",
       "        vertical-align: middle;\n",
       "    }\n",
       "\n",
       "    .dataframe tbody tr th {\n",
       "        vertical-align: top;\n",
       "    }\n",
       "\n",
       "    .dataframe thead tr th {\n",
       "        text-align: left;\n",
       "    }\n",
       "</style>\n",
       "<table border=\"1\" class=\"dataframe\">\n",
       "  <thead>\n",
       "    <tr>\n",
       "      <th></th>\n",
       "      <th>State or Territory</th>\n",
       "      <th colspan=\"2\" halign=\"left\">2020</th>\n",
       "      <th colspan=\"9\" halign=\"left\">Historical Violent Crime Rates</th>\n",
       "    </tr>\n",
       "    <tr>\n",
       "      <th></th>\n",
       "      <th>State or Territory</th>\n",
       "      <th>Incidence Count</th>\n",
       "      <th>Violent Crime Rate</th>\n",
       "      <th>2019</th>\n",
       "      <th>2018</th>\n",
       "      <th>2017</th>\n",
       "      <th>2016</th>\n",
       "      <th>2015</th>\n",
       "      <th>2014</th>\n",
       "      <th>2013</th>\n",
       "      <th>2012</th>\n",
       "      <th>2011</th>\n",
       "    </tr>\n",
       "  </thead>\n",
       "  <tbody>\n",
       "    <tr>\n",
       "      <th>1</th>\n",
       "      <td>District of Columbia</td>\n",
       "      <td>7127.0</td>\n",
       "      <td>999.8</td>\n",
       "      <td>1045.2</td>\n",
       "      <td>997.1</td>\n",
       "      <td>1002.7</td>\n",
       "      <td>1203.5</td>\n",
       "      <td>1269.1</td>\n",
       "      <td>1242.6</td>\n",
       "      <td>1281.9</td>\n",
       "      <td>1241.8</td>\n",
       "      <td>1202.1</td>\n",
       "    </tr>\n",
       "    <tr>\n",
       "      <th>2</th>\n",
       "      <td>Alaska</td>\n",
       "      <td>6126.0</td>\n",
       "      <td>837.8</td>\n",
       "      <td>865.0</td>\n",
       "      <td>891.7</td>\n",
       "      <td>856.7</td>\n",
       "      <td>804.6</td>\n",
       "      <td>730.2</td>\n",
       "      <td>635.5</td>\n",
       "      <td>602.6</td>\n",
       "      <td>604.1</td>\n",
       "      <td>606.5</td>\n",
       "    </tr>\n",
       "    <tr>\n",
       "      <th>3</th>\n",
       "      <td>New Mexico</td>\n",
       "      <td>16393.0</td>\n",
       "      <td>778.3</td>\n",
       "      <td>824.0</td>\n",
       "      <td>842.8</td>\n",
       "      <td>778.6</td>\n",
       "      <td>699.4</td>\n",
       "      <td>656.1</td>\n",
       "      <td>597.7</td>\n",
       "      <td>596.7</td>\n",
       "      <td>559.6</td>\n",
       "      <td>567.5</td>\n",
       "    </tr>\n",
       "    <tr>\n",
       "      <th>4</th>\n",
       "      <td>Tennessee</td>\n",
       "      <td>46328.0</td>\n",
       "      <td>672.7</td>\n",
       "      <td>598.9</td>\n",
       "      <td>630.4</td>\n",
       "      <td>655.0</td>\n",
       "      <td>638.5</td>\n",
       "      <td>612.1</td>\n",
       "      <td>610.7</td>\n",
       "      <td>579.7</td>\n",
       "      <td>638.5</td>\n",
       "      <td>608.2</td>\n",
       "    </tr>\n",
       "    <tr>\n",
       "      <th>5</th>\n",
       "      <td>Arkansas</td>\n",
       "      <td>20363.0</td>\n",
       "      <td>671.9</td>\n",
       "      <td>580.8</td>\n",
       "      <td>561.6</td>\n",
       "      <td>566.0</td>\n",
       "      <td>554.3</td>\n",
       "      <td>521.3</td>\n",
       "      <td>480.2</td>\n",
       "      <td>445.7</td>\n",
       "      <td>469.6</td>\n",
       "      <td>480.9</td>\n",
       "    </tr>\n",
       "  </tbody>\n",
       "</table>\n",
       "</div>"
      ],
      "text/plain": [
       "     State or Territory            2020                     \\\n",
       "     State or Territory Incidence Count Violent Crime Rate   \n",
       "1  District of Columbia          7127.0              999.8   \n",
       "2                Alaska          6126.0              837.8   \n",
       "3            New Mexico         16393.0              778.3   \n",
       "4             Tennessee         46328.0              672.7   \n",
       "5              Arkansas         20363.0              671.9   \n",
       "\n",
       "  Historical Violent Crime Rates                                         \\\n",
       "                            2019   2018    2017    2016    2015    2014   \n",
       "1                         1045.2  997.1  1002.7  1203.5  1269.1  1242.6   \n",
       "2                          865.0  891.7   856.7   804.6   730.2   635.5   \n",
       "3                          824.0  842.8   778.6   699.4   656.1   597.7   \n",
       "4                          598.9  630.4   655.0   638.5   612.1   610.7   \n",
       "5                          580.8  561.6   566.0   554.3   521.3   480.2   \n",
       "\n",
       "                           \n",
       "     2013    2012    2011  \n",
       "1  1281.9  1241.8  1202.1  \n",
       "2   602.6   604.1   606.5  \n",
       "3   596.7   559.6   567.5  \n",
       "4   579.7   638.5   608.2  \n",
       "5   445.7   469.6   480.9  "
      ]
     },
     "execution_count": 9,
     "metadata": {},
     "output_type": "execute_result"
    }
   ],
   "source": [
    "with open('data/US_states_violent_crimes_rates.html', 'r', encoding='utf8') as f:\n",
    "    violent_crimes_rates = pd.read_html(f.read())[0].iloc[1:]\n",
    "violent_crimes_rates.head()"
   ]
  },
  {
   "cell_type": "code",
   "execution_count": 10,
   "id": "cb31b62a-6846-44e8-9ca8-d3a18767e2e0",
   "metadata": {},
   "outputs": [],
   "source": [
    "violent_crimes_rates_by_state = {}\n",
    "for _, row in violent_crimes_rates.iterrows():\n",
    "    violent_crimes_rates_by_state[row[('State or Territory', 'State or Territory')]] = float(row[('2020', 'Violent Crime Rate')])"
   ]
  },
  {
   "cell_type": "markdown",
   "id": "c61c4eda-968f-43f8-84f3-185af994e24c",
   "metadata": {},
   "source": [
    "### Poverty Rates\n",
    "Source: https://en.wikipedia.org/wiki/List_of_U.S._states_and_territories_by_poverty_rate"
   ]
  },
  {
   "cell_type": "code",
   "execution_count": 11,
   "id": "3103e9da-e1a1-4b70-937e-b990a3b34477",
   "metadata": {},
   "outputs": [
    {
     "data": {
      "text/html": [
       "<div>\n",
       "<style scoped>\n",
       "    .dataframe tbody tr th:only-of-type {\n",
       "        vertical-align: middle;\n",
       "    }\n",
       "\n",
       "    .dataframe tbody tr th {\n",
       "        vertical-align: top;\n",
       "    }\n",
       "\n",
       "    .dataframe thead th {\n",
       "        text-align: right;\n",
       "    }\n",
       "</style>\n",
       "<table border=\"1\" class=\"dataframe\">\n",
       "  <thead>\n",
       "    <tr style=\"text-align: right;\">\n",
       "      <th></th>\n",
       "      <th>State or Territory</th>\n",
       "      <th>Population</th>\n",
       "      <th>Population underPoverty Line</th>\n",
       "      <th>Poverty Rate</th>\n",
       "    </tr>\n",
       "  </thead>\n",
       "  <tbody>\n",
       "    <tr>\n",
       "      <th>1</th>\n",
       "      <td>Puerto Rico</td>\n",
       "      <td>3227457.0</td>\n",
       "      <td>1400958.0</td>\n",
       "      <td>43.41%</td>\n",
       "    </tr>\n",
       "    <tr>\n",
       "      <th>2</th>\n",
       "      <td>Mississippi</td>\n",
       "      <td>2883074.0</td>\n",
       "      <td>564439.0</td>\n",
       "      <td>19.58%</td>\n",
       "    </tr>\n",
       "    <tr>\n",
       "      <th>3</th>\n",
       "      <td>Louisiana</td>\n",
       "      <td>4532187.0</td>\n",
       "      <td>845230.0</td>\n",
       "      <td>18.65%</td>\n",
       "    </tr>\n",
       "    <tr>\n",
       "      <th>4</th>\n",
       "      <td>New Mexico</td>\n",
       "      <td>2053909.0</td>\n",
       "      <td>381026.0</td>\n",
       "      <td>18.55%</td>\n",
       "    </tr>\n",
       "    <tr>\n",
       "      <th>5</th>\n",
       "      <td>West Virginia</td>\n",
       "      <td>1755591.0</td>\n",
       "      <td>300152.0</td>\n",
       "      <td>17.10%</td>\n",
       "    </tr>\n",
       "  </tbody>\n",
       "</table>\n",
       "</div>"
      ],
      "text/plain": [
       "  State or Territory  Population  Population underPoverty Line Poverty Rate\n",
       "1        Puerto Rico   3227457.0                     1400958.0       43.41%\n",
       "2        Mississippi   2883074.0                      564439.0       19.58%\n",
       "3          Louisiana   4532187.0                      845230.0       18.65%\n",
       "4         New Mexico   2053909.0                      381026.0       18.55%\n",
       "5      West Virginia   1755591.0                      300152.0       17.10%"
      ]
     },
     "execution_count": 11,
     "metadata": {},
     "output_type": "execute_result"
    }
   ],
   "source": [
    "with open('data/US_poverty_rates.html', 'r', encoding='utf8') as f:\n",
    "    poverty_rates = pd.read_html(f.read())[0].iloc[1:]\n",
    "poverty_rates.head()"
   ]
  },
  {
   "cell_type": "code",
   "execution_count": 12,
   "id": "b2a293d5-24b9-48fc-8d08-fb6b5052e762",
   "metadata": {},
   "outputs": [],
   "source": [
    "poverty_rates_by_state = {}\n",
    "for _, row in poverty_rates.iterrows():\n",
    "    poverty_rates_by_state[row['State or Territory']] = parse_pct(row[('Poverty Rate')])"
   ]
  },
  {
   "cell_type": "markdown",
   "id": "302e874d-2901-4d67-8fcb-c0c5f800ce35",
   "metadata": {},
   "source": [
    "### Educational Attainment\n",
    "Source: https://en.wikipedia.org/wiki/List_of_U.S._states_and_territories_by_educational_attainment"
   ]
  },
  {
   "cell_type": "code",
   "execution_count": 13,
   "id": "75dcf22b-2f9e-4976-8e00-99b1b756add0",
   "metadata": {},
   "outputs": [
    {
     "data": {
      "text/html": [
       "<div>\n",
       "<style scoped>\n",
       "    .dataframe tbody tr th:only-of-type {\n",
       "        vertical-align: middle;\n",
       "    }\n",
       "\n",
       "    .dataframe tbody tr th {\n",
       "        vertical-align: top;\n",
       "    }\n",
       "\n",
       "    .dataframe thead tr th {\n",
       "        text-align: left;\n",
       "    }\n",
       "</style>\n",
       "<table border=\"1\" class=\"dataframe\">\n",
       "  <thead>\n",
       "    <tr>\n",
       "      <th></th>\n",
       "      <th>State or Territory</th>\n",
       "      <th>Population over the age of 25</th>\n",
       "      <th colspan=\"2\" halign=\"left\">With a High School Diploma or higher</th>\n",
       "      <th colspan=\"2\" halign=\"left\">With a Bachelor's Degree or higher</th>\n",
       "      <th colspan=\"2\" halign=\"left\">With an Advanced Degree</th>\n",
       "    </tr>\n",
       "    <tr>\n",
       "      <th></th>\n",
       "      <th>State or Territory</th>\n",
       "      <th>Population over the age of 25</th>\n",
       "      <th>Population</th>\n",
       "      <th>Pct</th>\n",
       "      <th>Population</th>\n",
       "      <th>Pct</th>\n",
       "      <th>Population</th>\n",
       "      <th>Pct</th>\n",
       "    </tr>\n",
       "  </thead>\n",
       "  <tbody>\n",
       "    <tr>\n",
       "      <th>1</th>\n",
       "      <td>Alabama</td>\n",
       "      <td>3360058.0</td>\n",
       "      <td>2926985.0</td>\n",
       "      <td>87.11%</td>\n",
       "      <td>885357.0</td>\n",
       "      <td>26.35%</td>\n",
       "      <td>337382.0</td>\n",
       "      <td>10.04%</td>\n",
       "    </tr>\n",
       "    <tr>\n",
       "      <th>2</th>\n",
       "      <td>Alaska</td>\n",
       "      <td>484058.0</td>\n",
       "      <td>452968.0</td>\n",
       "      <td>93.58%</td>\n",
       "      <td>146157.0</td>\n",
       "      <td>30.19%</td>\n",
       "      <td>56574.0</td>\n",
       "      <td>11.69%</td>\n",
       "    </tr>\n",
       "    <tr>\n",
       "      <th>3</th>\n",
       "      <td>Arizona</td>\n",
       "      <td>4944540.0</td>\n",
       "      <td>4331542.0</td>\n",
       "      <td>87.60%</td>\n",
       "      <td>1492158.0</td>\n",
       "      <td>30.18%</td>\n",
       "      <td>561120.0</td>\n",
       "      <td>11.35%</td>\n",
       "    </tr>\n",
       "    <tr>\n",
       "      <th>4</th>\n",
       "      <td>Arkansas</td>\n",
       "      <td>2036456.0</td>\n",
       "      <td>1781463.0</td>\n",
       "      <td>87.48%</td>\n",
       "      <td>475367.0</td>\n",
       "      <td>23.34%</td>\n",
       "      <td>168182.0</td>\n",
       "      <td>8.26%</td>\n",
       "    </tr>\n",
       "    <tr>\n",
       "      <th>5</th>\n",
       "      <td>California</td>\n",
       "      <td>26937872.0</td>\n",
       "      <td>22636359.0</td>\n",
       "      <td>84.03%</td>\n",
       "      <td>9428484.0</td>\n",
       "      <td>35.00%</td>\n",
       "      <td>3538760.0</td>\n",
       "      <td>13.14%</td>\n",
       "    </tr>\n",
       "  </tbody>\n",
       "</table>\n",
       "</div>"
      ],
      "text/plain": [
       "  State or Territory Population over the age of 25  \\\n",
       "  State or Territory Population over the age of 25   \n",
       "1            Alabama                     3360058.0   \n",
       "2             Alaska                      484058.0   \n",
       "3            Arizona                     4944540.0   \n",
       "4           Arkansas                     2036456.0   \n",
       "5         California                    26937872.0   \n",
       "\n",
       "  With a High School Diploma or higher          \\\n",
       "                            Population     Pct   \n",
       "1                            2926985.0  87.11%   \n",
       "2                             452968.0  93.58%   \n",
       "3                            4331542.0  87.60%   \n",
       "4                            1781463.0  87.48%   \n",
       "5                           22636359.0  84.03%   \n",
       "\n",
       "  With a Bachelor's Degree or higher         With an Advanced Degree          \n",
       "                          Population     Pct              Population     Pct  \n",
       "1                           885357.0  26.35%                337382.0  10.04%  \n",
       "2                           146157.0  30.19%                 56574.0  11.69%  \n",
       "3                          1492158.0  30.18%                561120.0  11.35%  \n",
       "4                           475367.0  23.34%                168182.0   8.26%  \n",
       "5                          9428484.0  35.00%               3538760.0  13.14%  "
      ]
     },
     "execution_count": 13,
     "metadata": {},
     "output_type": "execute_result"
    }
   ],
   "source": [
    "with open('data/US_educational_attainment.html', 'r', encoding='utf8') as f:\n",
    "    educational_attainments = pd.read_html(f.read())[0].iloc[1:]\n",
    "educational_attainments.head()"
   ]
  },
  {
   "cell_type": "code",
   "execution_count": 14,
   "id": "8915bc82-123a-4351-9fb0-e9a3b84364fa",
   "metadata": {},
   "outputs": [],
   "source": [
    "high_school_diploma_pct_by_state = {}\n",
    "bachelor_degree_pct_by_state = {}\n",
    "advanced_pct_by_state = {}\n",
    "for _, row in educational_attainments.iterrows():\n",
    "    state = row[('State or Territory', 'State or Territory')]\n",
    "    high_school_diploma_pct_by_state[state] = parse_pct(row[('With a High School Diploma or higher', 'Pct')])\n",
    "    bachelor_degree_pct_by_state[state] = parse_pct(row[('With a Bachelor\\'s Degree or higher', 'Pct')])\n",
    "    advanced_pct_by_state[state] = parse_pct(row[('With an Advanced Degree', 'Pct')])"
   ]
  },
  {
   "cell_type": "markdown",
   "id": "243bddda-0411-4198-b854-ce0cff3de282",
   "metadata": {},
   "source": [
    "### Teen Pregnancy\n",
    "Source: https://en.wikipedia.org/wiki/Teenage_pregnancy_in_the_United_States"
   ]
  },
  {
   "cell_type": "code",
   "execution_count": 15,
   "id": "26653aba-adf0-4173-85a3-5cf5b581c508",
   "metadata": {},
   "outputs": [
    {
     "data": {
      "text/html": [
       "<div>\n",
       "<style scoped>\n",
       "    .dataframe tbody tr th:only-of-type {\n",
       "        vertical-align: middle;\n",
       "    }\n",
       "\n",
       "    .dataframe tbody tr th {\n",
       "        vertical-align: top;\n",
       "    }\n",
       "\n",
       "    .dataframe thead th {\n",
       "        text-align: right;\n",
       "    }\n",
       "</style>\n",
       "<table border=\"1\" class=\"dataframe\">\n",
       "  <thead>\n",
       "    <tr style=\"text-align: right;\">\n",
       "      <th></th>\n",
       "      <th>US State</th>\n",
       "      <th>Pregnancy rate (per 1000)</th>\n",
       "      <th>Birthrate</th>\n",
       "      <th>Abortion rate</th>\n",
       "      <th>% stillborn</th>\n",
       "    </tr>\n",
       "  </thead>\n",
       "  <tbody>\n",
       "    <tr>\n",
       "      <th>0</th>\n",
       "      <td>Alabama</td>\n",
       "      <td>62</td>\n",
       "      <td>32.0</td>\n",
       "      <td>9</td>\n",
       "      <td>17</td>\n",
       "    </tr>\n",
       "    <tr>\n",
       "      <th>1</th>\n",
       "      <td>Alaska</td>\n",
       "      <td>64</td>\n",
       "      <td>27.8</td>\n",
       "      <td>17</td>\n",
       "      <td>30</td>\n",
       "    </tr>\n",
       "    <tr>\n",
       "      <th>2</th>\n",
       "      <td>Arizona</td>\n",
       "      <td>60</td>\n",
       "      <td>29.9</td>\n",
       "      <td>9</td>\n",
       "      <td>18</td>\n",
       "    </tr>\n",
       "    <tr>\n",
       "      <th>3</th>\n",
       "      <td>Arkansas</td>\n",
       "      <td>73</td>\n",
       "      <td>39.5</td>\n",
       "      <td>9</td>\n",
       "      <td>14</td>\n",
       "    </tr>\n",
       "    <tr>\n",
       "      <th>4</th>\n",
       "      <td>California</td>\n",
       "      <td>59</td>\n",
       "      <td>21.1</td>\n",
       "      <td>19</td>\n",
       "      <td>38</td>\n",
       "    </tr>\n",
       "  </tbody>\n",
       "</table>\n",
       "</div>"
      ],
      "text/plain": [
       "     US State  Pregnancy rate (per 1000)  Birthrate  Abortion rate  \\\n",
       "0     Alabama                         62       32.0              9   \n",
       "1      Alaska                         64       27.8             17   \n",
       "2     Arizona                         60       29.9              9   \n",
       "3    Arkansas                         73       39.5              9   \n",
       "4  California                         59       21.1             19   \n",
       "\n",
       "   % stillborn  \n",
       "0           17  \n",
       "1           30  \n",
       "2           18  \n",
       "3           14  \n",
       "4           38  "
      ]
     },
     "execution_count": 15,
     "metadata": {},
     "output_type": "execute_result"
    }
   ],
   "source": [
    "with open('data/US_teen_pregnancy.html', 'r', encoding='utf8') as f:\n",
    "    teen_pregnancy = pd.read_html(f.read())[0]\n",
    "teen_pregnancy.head()"
   ]
  },
  {
   "cell_type": "code",
   "execution_count": 16,
   "id": "f44bbd91-9fc0-4319-bc50-414627706927",
   "metadata": {},
   "outputs": [],
   "source": [
    "teen_pregnancy_rates_by_state = {}\n",
    "for _, row in teen_pregnancy.iterrows():\n",
    "    teen_pregnancy_rates_by_state[row['US State']] = int(row[('Pregnancy rate (per 1000)')])"
   ]
  },
  {
   "cell_type": "markdown",
   "id": "0485ce19-047d-44a7-9ef4-50d44c5f42c4",
   "metadata": {},
   "source": [
    "### Brain Drain\n",
    "Source: https://www.jec.senate.gov/public/index.cfm/republicans/2019/4/losing-our-minds-brain-drain-across-the-united-states"
   ]
  },
  {
   "cell_type": "code",
   "execution_count": 17,
   "id": "9ed35540-1843-48b8-9d55-5a9d9d07978c",
   "metadata": {},
   "outputs": [
    {
     "data": {
      "text/html": [
       "<div>\n",
       "<style scoped>\n",
       "    .dataframe tbody tr th:only-of-type {\n",
       "        vertical-align: middle;\n",
       "    }\n",
       "\n",
       "    .dataframe tbody tr th {\n",
       "        vertical-align: top;\n",
       "    }\n",
       "\n",
       "    .dataframe thead th {\n",
       "        text-align: right;\n",
       "    }\n",
       "</style>\n",
       "<table border=\"1\" class=\"dataframe\">\n",
       "  <thead>\n",
       "    <tr style=\"text-align: right;\">\n",
       "      <th></th>\n",
       "      <th>0</th>\n",
       "      <th>1</th>\n",
       "    </tr>\n",
       "  </thead>\n",
       "  <tbody>\n",
       "    <tr>\n",
       "      <th>2</th>\n",
       "      <td>Vermont</td>\n",
       "      <td>26.3</td>\n",
       "    </tr>\n",
       "    <tr>\n",
       "      <th>3</th>\n",
       "      <td>South Dakota</td>\n",
       "      <td>24.0</td>\n",
       "    </tr>\n",
       "    <tr>\n",
       "      <th>4</th>\n",
       "      <td>Delaware</td>\n",
       "      <td>23.7</td>\n",
       "    </tr>\n",
       "    <tr>\n",
       "      <th>5</th>\n",
       "      <td>Wisconsin</td>\n",
       "      <td>20.4</td>\n",
       "    </tr>\n",
       "    <tr>\n",
       "      <th>6</th>\n",
       "      <td>New Hampshire</td>\n",
       "      <td>19.4</td>\n",
       "    </tr>\n",
       "  </tbody>\n",
       "</table>\n",
       "</div>"
      ],
      "text/plain": [
       "               0     1\n",
       "2        Vermont  26.3\n",
       "3   South Dakota  24.0\n",
       "4       Delaware  23.7\n",
       "5      Wisconsin  20.4\n",
       "6  New Hampshire  19.4"
      ]
     },
     "execution_count": 17,
     "metadata": {},
     "output_type": "execute_result"
    }
   ],
   "source": [
    "with open('data/US_brain_drain.html', 'r', encoding='utf8') as f:\n",
    "    brain_drain = pd.read_html(f.read())[0].iloc[2:]\n",
    "brain_drain.head()"
   ]
  },
  {
   "cell_type": "code",
   "execution_count": 18,
   "id": "9b701c53-eeae-4669-8cd7-58280d28b110",
   "metadata": {},
   "outputs": [],
   "source": [
    "brain_drain_by_state = {}\n",
    "for _, row in brain_drain.iterrows():\n",
    "    brain_drain_by_state[row[0]] = float(row[1])"
   ]
  },
  {
   "cell_type": "markdown",
   "id": "af334fc2-4306-4dd0-9e89-9961a21233d1",
   "metadata": {},
   "source": [
    "## Verify Claims\n",
    "I'm mostly going to look at correlation between an indicator and the strength of republicans in the state compared to democrats.  \n",
    "I will use the [Spearman Correlation Coefficient](https://en.wikipedia.org/wiki/Spearman%27s_rank_correlation_coefficient).  \n",
    "If the correlation go in the way of the claim:\n",
    "- positive correlation for higher in republican states than democratic states (e.g. higher crime rates in republican states)\n",
    "- negative correlation for lower inrepublican states than democratic states (e.g. lower education in republican states)\n",
    "\n",
    "And the pvalue is lower than 0.05 (or very close), I will conclude the claim is true."
   ]
  },
  {
   "cell_type": "code",
   "execution_count": 19,
   "id": "0b639cb5-b77a-43e9-8f1f-38239c556a62",
   "metadata": {},
   "outputs": [],
   "source": [
    "def check_correlation(data, label):\n",
    "    points = []\n",
    "\n",
    "    for state, strength in republican_strength_by_state.items():\n",
    "        if state in data:\n",
    "            points.append((strength, data[state]))\n",
    "        else:\n",
    "            print('Missing data for', state)\n",
    "\n",
    "    points = sorted(points, key=lambda i: i[0])\n",
    "    X = [i[0] for i in points]\n",
    "    Y = [i[1] for i in points]\n",
    "\n",
    "    plt.title(label + ' related to Republican Strength')\n",
    "    plt.plot(X, Y)\n",
    "    plt.xlabel('Republican Strength [1]')\n",
    "    plt.ylabel(label)\n",
    "    plt.show()\n",
    "    \n",
    "    sp = stats.spearmanr(X, Y)\n",
    "    print('Spearman correlation coefficient =', sp.correlation)\n",
    "    print('pvalue =', sp.pvalue)"
   ]
  },
  {
   "cell_type": "markdown",
   "id": "af5a120b-6235-41a2-8f4f-7428253a2fb6",
   "metadata": {},
   "source": [
    "### Lower Life Expectancy in Republican States\n",
    "Let's see if life expectancy is negatively correlated to republican strength."
   ]
  },
  {
   "cell_type": "code",
   "execution_count": 20,
   "id": "47c3e05b-0bcb-467a-97b8-f267db24dc0b",
   "metadata": {},
   "outputs": [
    {
     "data": {
      "image/png": "[encoded data removed]",
      "text/plain": [
       "<Figure size 432x288 with 1 Axes>"
      ]
     },
     "metadata": {
      "needs_background": "light"
     },
     "output_type": "display_data"
    },
    {
     "name": "stdout",
     "output_type": "stream",
     "text": [
      "Spearman correlation coefficient = -0.4440921179647748\n",
      "pvalue = 0.001235157569529396\n"
     ]
    }
   ],
   "source": [
    "check_correlation(life_expectancy_by_state, 'Life Expectancy (years)')"
   ]
  },
  {
   "cell_type": "markdown",
   "id": "b757980e-8b54-4aa1-bf27-c5bd648692b2",
   "metadata": {},
   "source": [
    "We notice a negative correlation, that is confirmed by the [Spearman Correlation Coefficient](https://en.wikipedia.org/wiki/Spearman%27s_rank_correlation_coefficient).  \n",
    "With a pvalue lower than 0.05 this is significant, the claim is true.\n",
    "\n",
    "Life expectency is lower in states with higher registered republican voters compared to democratic voters.  \n",
    "\n",
    "**DISCLAIMER:**  \n",
    "This just demonstrate correlation, not causality.  \n",
    "Maybe lower life expectancy cause more republican voters, maybe it is the opposite, or maybe there are no causality.  \n",
    "This disclaimer is valid for every correlation computations."
   ]
  },
  {
   "cell_type": "markdown",
   "id": "19c6ebd6-eac3-4814-bfd1-b851bcf57bf9",
   "metadata": {},
   "source": [
    "### Higher Violent Crimes Rates in republican States\n",
    "Still looking at correlation."
   ]
  },
  {
   "cell_type": "code",
   "execution_count": 21,
   "id": "2e2d3b44-f10e-429e-af0b-778ca8fae652",
   "metadata": {},
   "outputs": [
    {
     "data": {
      "image/png": "[encoded data removed]",
      "text/plain": [
       "<Figure size 432x288 with 1 Axes>"
      ]
     },
     "metadata": {
      "needs_background": "light"
     },
     "output_type": "display_data"
    },
    {
     "name": "stdout",
     "output_type": "stream",
     "text": [
      "Spearman correlation coefficient = 0.27599952046640547\n",
      "pvalue = 0.052365372443706704\n"
     ]
    }
   ],
   "source": [
    "check_correlation(violent_crimes_rates_by_state, 'Violent Crime Rates (per 100,000 inhabitants)')"
   ]
  },
  {
   "cell_type": "markdown",
   "id": "69268256-89c9-45b5-a015-c2035958f5a9",
   "metadata": {},
   "source": [
    "There is a positive correlation, but the pvalue in slightly above the 0.05 threshold, but because of how close it is I am gonna conclude that the claim is true.\n",
    "\n",
    "Violent crimes rates are higher in states with higher registered republican voters compared to democratic voters."
   ]
  },
  {
   "cell_type": "markdown",
   "id": "d9945864-4574-4ee2-8320-e1c5fdfcc3c5",
   "metadata": {},
   "source": [
    "### Higher Poverty Rates in Republican States"
   ]
  },
  {
   "cell_type": "code",
   "execution_count": 22,
   "id": "6fa98a42-ba0c-4076-9b69-6ac1e5d7ddc2",
   "metadata": {},
   "outputs": [
    {
     "data": {
      "image/png": "[encoded data removed]",
      "text/plain": [
       "<Figure size 432x288 with 1 Axes>"
      ]
     },
     "metadata": {
      "needs_background": "light"
     },
     "output_type": "display_data"
    },
    {
     "name": "stdout",
     "output_type": "stream",
     "text": [
      "Spearman correlation coefficient = 0.24133707953071798\n",
      "pvalue = 0.09133317266830693\n"
     ]
    }
   ],
   "source": [
    "check_correlation(poverty_rates_by_state, 'Poverty Rate')"
   ]
  },
  {
   "cell_type": "markdown",
   "id": "6d682861-e873-4fe3-b9f4-07dd0c89a896",
   "metadata": {},
   "source": [
    "There is a positive correlation but the pvalue is too high to conclude it is significant. The claim is false.\n",
    "\n",
    "We cannot conclude that the poverty rate in higher in states with higher registered republican voters compared to democratic voters."
   ]
  },
  {
   "cell_type": "markdown",
   "id": "fba579f3-5f22-432d-b100-176d5c5c9fff",
   "metadata": {},
   "source": [
    "### Lower Education in Republican States"
   ]
  },
  {
   "cell_type": "code",
   "execution_count": 23,
   "id": "d60da62b-4bf2-48aa-90ef-fc2a1ff5a6a8",
   "metadata": {},
   "outputs": [
    {
     "data": {
      "image/png": "[encoded data removed]",
      "text/plain": [
       "<Figure size 432x288 with 1 Axes>"
      ]
     },
     "metadata": {
      "needs_background": "light"
     },
     "output_type": "display_data"
    },
    {
     "name": "stdout",
     "output_type": "stream",
     "text": [
      "Spearman correlation coefficient = 0.15709723127263256\n",
      "pvalue = 0.2759197411342141\n"
     ]
    }
   ],
   "source": [
    "check_correlation(high_school_diploma_pct_by_state, 'High School Diploma or Higher (percent)')"
   ]
  },
  {
   "cell_type": "code",
   "execution_count": 24,
   "id": "971ca7bf-f6c7-4a25-9e05-0bb20e8072a7",
   "metadata": {},
   "outputs": [
    {
     "data": {
      "image/png": "[encoded data removed]",
      "text/plain": [
       "<Figure size 432x288 with 1 Axes>"
      ]
     },
     "metadata": {
      "needs_background": "light"
     },
     "output_type": "display_data"
    },
    {
     "name": "stdout",
     "output_type": "stream",
     "text": [
      "Spearman correlation coefficient = -0.5704749582093249\n",
      "pvalue = 1.5233437012188613e-05\n"
     ]
    }
   ],
   "source": [
    "check_correlation(bachelor_degree_pct_by_state, 'High School Diploma or Higher (percent)')"
   ]
  },
  {
   "cell_type": "code",
   "execution_count": 25,
   "id": "c360f616-c3c1-4daf-8baa-dd03bba2d962",
   "metadata": {},
   "outputs": [
    {
     "data": {
      "image/png": "[encoded data removed]",
      "text/plain": [
       "<Figure size 432x288 with 1 Axes>"
      ]
     },
     "metadata": {
      "needs_background": "light"
     },
     "output_type": "display_data"
    },
    {
     "name": "stdout",
     "output_type": "stream",
     "text": [
      "Spearman correlation coefficient = -0.7014215741448123\n",
      "pvalue = 1.397666430545596e-08\n"
     ]
    }
   ],
   "source": [
    "check_correlation(advanced_pct_by_state, 'High School Diploma or Higher (percent)')"
   ]
  },
  {
   "cell_type": "markdown",
   "id": "9b35486b-c75a-416b-9346-6ae9fa7472b4",
   "metadata": {},
   "source": [
    "So for high school diploma there are no differences between republican and democratic states, but for bachelor's degrees and advanced degrees the difference is massive.  \n",
    "The claim valid.\n",
    "\n",
    "People are less educated in states with higher registered republican voters compared to democratic voters."
   ]
  },
  {
   "cell_type": "markdown",
   "id": "1b54a407-443b-4d8f-8881-2e0ca478a047",
   "metadata": {},
   "source": [
    "### Worse Healthcare in Republican States\n",
    "The best way to evaluate healthcare is life expectancy, however we already established than republican states have lower life expectancy, so the claim is true.\n",
    "\n",
    "Healthcare is worse in states with higher registered republican voters compared to democratic voters."
   ]
  },
  {
   "cell_type": "markdown",
   "id": "aaf3a53f-ced9-4fcc-9af3-561a635dbdc5",
   "metadata": {},
   "source": [
    "### Higher Teen Pregnancy Rates in Republican States"
   ]
  },
  {
   "cell_type": "code",
   "execution_count": 26,
   "id": "f4784a3a-1323-40db-9fc5-8f36f340e432",
   "metadata": {},
   "outputs": [
    {
     "data": {
      "image/png": "[encoded data removed]",
      "text/plain": [
       "<Figure size 432x288 with 1 Axes>"
      ]
     },
     "metadata": {
      "needs_background": "light"
     },
     "output_type": "display_data"
    },
    {
     "name": "stdout",
     "output_type": "stream",
     "text": [
      "Spearman correlation coefficient = 0.1644520564880335\n",
      "pvalue = 0.25377407676053926\n"
     ]
    }
   ],
   "source": [
    "check_correlation(teen_pregnancy_rates_by_state, 'Pregnancy rate (per 1000)')"
   ]
  },
  {
   "cell_type": "markdown",
   "id": "3af7f00d-a661-479b-b118-ebcb0dd3fae3",
   "metadata": {},
   "source": [
    "pvalue is pretty high, the claim is false.\n",
    "\n",
    "Teen Pregnancy Rates are not higher in states with higher registered republican voters compared to democratic voters."
   ]
  },
  {
   "cell_type": "markdown",
   "id": "8ce56803-5cfd-4938-a56b-12596f7656ba",
   "metadata": {},
   "source": [
    "### Brain Drain"
   ]
  },
  {
   "cell_type": "code",
   "execution_count": 27,
   "id": "ad9aa2b2-91d7-4738-ab9b-954a1903908c",
   "metadata": {},
   "outputs": [
    {
     "data": {
      "image/png": "[encoded data removed]",
      "text/plain": [
       "<Figure size 432x288 with 1 Axes>"
      ]
     },
     "metadata": {
      "needs_background": "light"
     },
     "output_type": "display_data"
    },
    {
     "name": "stdout",
     "output_type": "stream",
     "text": [
      "Spearman correlation coefficient = 0.14544406618820518\n",
      "pvalue = 0.3135484518191781\n"
     ]
    }
   ],
   "source": [
    "check_correlation(brain_drain_by_state, 'Gap betwenn Highly-Educated\\nLeavers and Stayers (%)')"
   ]
  },
  {
   "cell_type": "markdown",
   "id": "b2c42f2a-ae49-48cc-83ae-b2aabd71edd0",
   "metadata": {},
   "source": [
    "pvalue is pretty high, the claim is false.\n",
    "\n",
    "Brain Drain is not higher in states with higher registered republican voters compared to democratic voters."
   ]
  },
  {
   "cell_type": "markdown",
   "id": "59c7951f-a7bd-4d7c-9799-e766fd15afed",
   "metadata": {},
   "source": [
    "## Conclusion and Discussion\n",
    "Regarding the initial goal of fact checking a reddit user, 4 claims were true and 3 were false. But because Life Expectancy and Healthcare are redundant (life expectancy is often used to measure the healtcare efficiency), we can bring down the number of claims that were true to 3. So only 50% of the claims made by this user true.\n",
    "\n",
    "It is important to note that the quality of the sources, or the validity of the indicators used (e.g. using life expectancy to measure healtcare efficiency) here were not thoroughly reviewed. Any feedback are welcomed.  \n",
    "Also we only looked at correlation, not causality.\n",
    "\n",
    "Claims that are false are not reversed either. For example republican states do not have a higher brain drain compared to democratic ones, but democratic states do not have a higher brain drain compared to republican ones either... They are even. There are no correlation with political affiliation."
   ]
  },
  {
   "cell_type": "code",
   "execution_count": null,
   "id": "24cbac52-ecdb-412a-8633-de06b29a8803",
   "metadata": {},
   "outputs": [],
   "source": []
  }
 ],
 "metadata": {
  "kernelspec": {
   "display_name": "Python 3 (ipykernel)",
   "language": "python",
   "name": "python3"
  },
  "language_info": {
   "codemirror_mode": {
    "name": "ipython",
    "version": 3
   },
   "file_extension": ".py",
   "mimetype": "text/x-python",
   "name": "python",
   "nbconvert_exporter": "python",
   "pygments_lexer": "ipython3",
   "version": "3.8.8"
  }
 },
 "nbformat": 4,
 "nbformat_minor": 5
}
